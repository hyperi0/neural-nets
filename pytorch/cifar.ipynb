{
 "cells": [
  {
   "cell_type": "code",
   "execution_count": 112,
   "metadata": {},
   "outputs": [],
   "source": [
    "import torch\n",
    "from torch import nn\n",
    "import torch.nn.functional as F\n",
    "import torchvision\n",
    "from torchvision import transforms"
   ]
  },
  {
   "cell_type": "markdown",
   "metadata": {},
   "source": [
    "Download and build CIFAR10 dataset"
   ]
  },
  {
   "cell_type": "code",
   "execution_count": 119,
   "metadata": {},
   "outputs": [],
   "source": [
    "transform = transforms.Compose(\n",
    "    [transforms.ToTensor(),\n",
    "     transforms.Normalize((0.5, 0.5, 0.5), (0.5, 0.5, 0.5))]\n",
    ")\n",
    "\n",
    "dataset = torchvision.datasets.CIFAR10(\n",
    "    './data/',\n",
    "    download=True,\n",
    "    transform=transforms.ToTensor()\n",
    ")\n",
    "\n",
    "train_ds, val_ds, test_ds = torch.utils.data.random_split(dataset, [.6, .2, .2])\n",
    "train_dl, val_dl, test_dl = [\n",
    "    torch.utils.data.DataLoader(\n",
    "        ds,\n",
    "        batch_size=32,\n",
    "        shuffle=True,\n",
    "    ) for ds in [train_ds, val_ds, test_ds]]"
   ]
  },
  {
   "cell_type": "markdown",
   "metadata": {},
   "source": [
    "Construct convnet"
   ]
  },
  {
   "cell_type": "code",
   "execution_count": 120,
   "metadata": {},
   "outputs": [],
   "source": [
    "class CNet(nn.Module):\n",
    "    def __init__(self):\n",
    "        super().__init__()\n",
    "        self.conv1 = nn.Conv2d(3, 16, 3)\n",
    "        self.conv2 = nn.Conv2d(16, 32, 3)\n",
    "        self.pool = nn.MaxPool2d(2)\n",
    "        self.flatten = nn.Flatten()\n",
    "        self.fc1 = nn.Linear(1152, 64)\n",
    "        self.fc2 = nn.Linear(64, 10)\n",
    "    \n",
    "    def forward(self, x):\n",
    "        x = F.relu(self.conv1(x))\n",
    "        x = self.pool(x)\n",
    "        x = F.relu(self.conv2(x))\n",
    "        x = self.pool(x)\n",
    "        x = self.flatten(x)\n",
    "        x = F.relu(self.fc1(x))\n",
    "        x = self.fc2(x)\n",
    "        return x"
   ]
  },
  {
   "cell_type": "markdown",
   "metadata": {},
   "source": [
    "Training"
   ]
  },
  {
   "cell_type": "code",
   "execution_count": 121,
   "metadata": {},
   "outputs": [],
   "source": [
    "def train_epoch(net, dataloader, loss_fn, optimizer):\n",
    "    net.train()\n",
    "    size = len(dataloader.dataset)\n",
    "    for batch, (images, labels) in enumerate(dataloader):\n",
    "        optimizer.zero_grad()\n",
    "        outputs = net(images)\n",
    "        loss = loss_fn(outputs, labels)\n",
    "        loss.backward()\n",
    "        optimizer.step()\n",
    "        if batch % 100 == 0:\n",
    "            loss, current = loss.item(), batch * 32 + len(images)\n",
    "            print(f'loss: {loss:5f} [{current:>5d}/{size:>5d}]')"
   ]
  },
  {
   "cell_type": "code",
   "execution_count": 122,
   "metadata": {},
   "outputs": [],
   "source": [
    "def validate_epoch(net, dataloader, loss_fn):\n",
    "    net.eval()\n",
    "    size = len(dataloader.dataset)\n",
    "    num_batches = len(dataloader)\n",
    "    test_loss, correct = 0, 0\n",
    "\n",
    "    with torch.no_grad():\n",
    "        for images, labels in dataloader:\n",
    "            outputs = net(images)\n",
    "            test_loss += loss_fn(outputs, labels).item()\n",
    "            correct += (outputs.argmax(1) == labels).type(torch.float).sum().item()\n",
    "        \n",
    "    test_loss /= num_batches\n",
    "    correct /= size\n",
    "    print(f'Accuracy: {(100*correct):>0.1f}%, Avg Loss: {test_loss:>5f} \\n')"
   ]
  },
  {
   "cell_type": "code",
   "execution_count": 123,
   "metadata": {},
   "outputs": [],
   "source": [
    "epochs = 3\n",
    "net = CNet()\n",
    "loss_fn = nn.CrossEntropyLoss()\n",
    "optimizer = torch.optim.Adam(net.parameters(), lr=0.01)"
   ]
  },
  {
   "cell_type": "code",
   "execution_count": 124,
   "metadata": {},
   "outputs": [
    {
     "name": "stdout",
     "output_type": "stream",
     "text": [
      "EPOCH 0:\n",
      "loss: 2.283231 [   32/30000]\n",
      "loss: 1.960467 [ 3232/30000]\n",
      "loss: 2.110461 [ 6432/30000]\n",
      "loss: 1.966350 [ 9632/30000]\n",
      "loss: 1.924716 [12832/30000]\n",
      "loss: 2.421471 [16032/30000]\n",
      "loss: 1.529417 [19232/30000]\n",
      "loss: 1.846909 [22432/30000]\n",
      "loss: 1.876040 [25632/30000]\n",
      "loss: 1.715833 [28832/30000]\n",
      "Accuracy: 37.6%, Avg Loss: 1.667424 \n",
      "\n",
      "EPOCH 1:\n",
      "loss: 1.790999 [   32/30000]\n",
      "loss: 1.657287 [ 3232/30000]\n",
      "loss: 1.621968 [ 6432/30000]\n",
      "loss: 1.668329 [ 9632/30000]\n",
      "loss: 1.323678 [12832/30000]\n",
      "loss: 1.646778 [16032/30000]\n",
      "loss: 1.877646 [19232/30000]\n",
      "loss: 1.411642 [22432/30000]\n",
      "loss: 1.456230 [25632/30000]\n",
      "loss: 1.689106 [28832/30000]\n",
      "Accuracy: 41.8%, Avg Loss: 1.570738 \n",
      "\n",
      "EPOCH 2:\n",
      "loss: 1.610683 [   32/30000]\n",
      "loss: 1.841908 [ 3232/30000]\n",
      "loss: 1.390561 [ 6432/30000]\n",
      "loss: 1.447668 [ 9632/30000]\n",
      "loss: 1.743115 [12832/30000]\n",
      "loss: 1.896026 [16032/30000]\n",
      "loss: 1.405514 [19232/30000]\n",
      "loss: 1.260999 [22432/30000]\n",
      "loss: 1.642641 [25632/30000]\n",
      "loss: 1.833020 [28832/30000]\n",
      "Accuracy: 42.3%, Avg Loss: 1.606330 \n",
      "\n"
     ]
    }
   ],
   "source": [
    "for epoch in range(epochs):\n",
    "    print(f'EPOCH {epoch}:')\n",
    "    train_epoch(net, train_dl, loss_fn, optimizer)\n",
    "    validate_epoch(net, val_dl, loss_fn)"
   ]
  },
  {
   "cell_type": "code",
   "execution_count": null,
   "metadata": {},
   "outputs": [],
   "source": []
  }
 ],
 "metadata": {
  "kernelspec": {
   "display_name": "ml",
   "language": "python",
   "name": "python3"
  },
  "language_info": {
   "codemirror_mode": {
    "name": "ipython",
    "version": 3
   },
   "file_extension": ".py",
   "mimetype": "text/x-python",
   "name": "python",
   "nbconvert_exporter": "python",
   "pygments_lexer": "ipython3",
   "version": "3.11.9"
  }
 },
 "nbformat": 4,
 "nbformat_minor": 2
}
